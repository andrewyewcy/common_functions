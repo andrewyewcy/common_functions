{
 "cells": [
  {
   "cell_type": "code",
   "execution_count": 1,
   "id": "73e20465-0265-4203-95bf-3fbf381e30c8",
   "metadata": {},
   "outputs": [],
   "source": [
    "from timer import print_time"
   ]
  },
  {
   "cell_type": "code",
   "execution_count": 3,
   "id": "76d502bb-b14a-47c5-b034-5a7f24ed4002",
   "metadata": {},
   "outputs": [
    {
     "name": "stdout",
     "output_type": "stream",
     "text": [
      "2\n",
      "Time taken: 0.0001 seconds.\n"
     ]
    }
   ],
   "source": [
    "with print_time():\n",
    "    print(1+1)"
   ]
  },
  {
   "cell_type": "code",
   "execution_count": null,
   "id": "3b09392e-e40e-4306-8e58-0facf368005c",
   "metadata": {},
   "outputs": [],
   "source": []
  }
 ],
 "metadata": {
  "kernelspec": {
   "display_name": "Python 3 (ipykernel)",
   "language": "python",
   "name": "python3"
  },
  "language_info": {
   "codemirror_mode": {
    "name": "ipython",
    "version": 3
   },
   "file_extension": ".py",
   "mimetype": "text/x-python",
   "name": "python",
   "nbconvert_exporter": "python",
   "pygments_lexer": "ipython3",
   "version": "3.11.4"
  }
 },
 "nbformat": 4,
 "nbformat_minor": 5
}
