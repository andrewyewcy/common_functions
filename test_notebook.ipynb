{
 "cells": [
  {
   "cell_type": "markdown",
   "id": "bce6bc48-cb4d-4c80-99f5-0ed203634326",
   "metadata": {},
   "source": [
    "# Test Notebook\n",
    "This notebook is for testing the functions in common functions."
   ]
  },
  {
   "cell_type": "markdown",
   "id": "f654fee1-3ded-40b6-8c31-e1920546e523",
   "metadata": {},
   "source": [
    "## timer module"
   ]
  },
  {
   "cell_type": "code",
   "execution_count": null,
   "id": "4856fa74-aa2d-4087-92e0-234f06f7e77c",
   "metadata": {},
   "outputs": [],
   "source": [
    "from common_functions.timer import timer_wrapper, print_time\n",
    "import time"
   ]
  },
  {
   "cell_type": "code",
   "execution_count": null,
   "id": "d9e202f5-676a-4967-8133-484195079980",
   "metadata": {},
   "outputs": [],
   "source": [
    "@timer_wrapper\n",
    "def sleeper(x):\n",
    "    time.sleep(x)"
   ]
  },
  {
   "cell_type": "code",
   "execution_count": null,
   "id": "3e443cff-fc05-42e8-8903-2d0ecb601dcd",
   "metadata": {},
   "outputs": [],
   "source": [
    "sleeper(5)"
   ]
  },
  {
   "cell_type": "code",
   "execution_count": null,
   "id": "8c6f8af5-14af-40d9-8210-e43d78cfa573",
   "metadata": {},
   "outputs": [],
   "source": [
    "def sleeper2(x):\n",
    "    time.sleep(x)"
   ]
  },
  {
   "cell_type": "code",
   "execution_count": null,
   "id": "6c45928a-e175-4274-84cc-6fbd67b94933",
   "metadata": {},
   "outputs": [],
   "source": [
    "timer_wrapper(sleeper2(2))"
   ]
  },
  {
   "cell_type": "code",
   "execution_count": null,
   "id": "7b045231-4f1c-47c0-bab1-4cf65c8306ae",
   "metadata": {},
   "outputs": [],
   "source": [
    "with print_time():\n",
    "    sleeper(2)"
   ]
  },
  {
   "cell_type": "code",
   "execution_count": 1,
   "id": "09b18806-9bba-41b9-a188-83f697682154",
   "metadata": {},
   "outputs": [],
   "source": [
    "from notebook_functions.print import print_list"
   ]
  },
  {
   "cell_type": "code",
   "execution_count": 2,
   "id": "fb6293b1-3da2-4658-a052-c6b31a5ffd77",
   "metadata": {},
   "outputs": [],
   "source": [
    "sample_list = [\"a\",\"b\",\"c\"] * 200"
   ]
  },
  {
   "cell_type": "code",
   "execution_count": 3,
   "id": "5d46ce67-c2a2-4101-a297-293468cb333c",
   "metadata": {},
   "outputs": [
    {
     "name": "stdout",
     "output_type": "stream",
     "text": [
      "Item 01 / 600: a\n",
      "Item 02 / 600: b\n",
      "Item 03 / 600: c\n",
      "Item 04 / 600: a\n",
      "Item 05 / 600: b\n",
      "Item 06 / 600: c\n",
      "Item 07 / 600: a\n",
      "Item 08 / 600: b\n",
      "Item 09 / 600: c\n",
      "Item 10 / 600: a\n",
      "Item 11 / 600: b\n",
      "Item 12 / 600: c\n",
      "Item 13 / 600: a\n",
      "Item 14 / 600: b\n",
      "Item 15 / 600: c\n",
      "Item 16 / 600: a\n",
      "Item 17 / 600: b\n",
      "Item 18 / 600: c\n",
      "Item 19 / 600: a\n",
      "Item 20 / 600: b\n"
     ]
    }
   ],
   "source": [
    "print_list(sample_list)"
   ]
  },
  {
   "cell_type": "code",
   "execution_count": null,
   "id": "5f6fe898-9041-4efe-9b40-7ff83cce2de7",
   "metadata": {},
   "outputs": [],
   "source": []
  }
 ],
 "metadata": {
  "kernelspec": {
   "display_name": "Python 3 (ipykernel)",
   "language": "python",
   "name": "python3"
  },
  "language_info": {
   "codemirror_mode": {
    "name": "ipython",
    "version": 3
   },
   "file_extension": ".py",
   "mimetype": "text/x-python",
   "name": "python",
   "nbconvert_exporter": "python",
   "pygments_lexer": "ipython3",
   "version": "3.11.4"
  }
 },
 "nbformat": 4,
 "nbformat_minor": 5
}
