{
 "cells": [
  {
   "cell_type": "markdown",
   "id": "bce6bc48-cb4d-4c80-99f5-0ed203634326",
   "metadata": {},
   "source": [
    "# Test Notebook\n",
    "This notebook is for testing the functions in common functions."
   ]
  },
  {
   "cell_type": "markdown",
   "id": "f654fee1-3ded-40b6-8c31-e1920546e523",
   "metadata": {},
   "source": [
    "## timer module"
   ]
  },
  {
   "cell_type": "code",
   "execution_count": 1,
   "id": "4856fa74-aa2d-4087-92e0-234f06f7e77c",
   "metadata": {},
   "outputs": [],
   "source": [
    "from common_functions.timer import timer_wrapper, print_time\n",
    "import time"
   ]
  },
  {
   "cell_type": "code",
   "execution_count": 2,
   "id": "d9e202f5-676a-4967-8133-484195079980",
   "metadata": {},
   "outputs": [],
   "source": [
    "@timer_wrapper\n",
    "def sleeper(x):\n",
    "    time.sleep(x)"
   ]
  },
  {
   "cell_type": "code",
   "execution_count": 3,
   "id": "3e443cff-fc05-42e8-8903-2d0ecb601dcd",
   "metadata": {},
   "outputs": [
    {
     "name": "stdout",
     "output_type": "stream",
     "text": [
      "Run 1 of sleeper took 5.0002 seconds.\n",
      "Total run time: 5.0002 seconds. Average run time: 5.0002 seconds. \n",
      "\n"
     ]
    }
   ],
   "source": [
    "sleeper(5)"
   ]
  },
  {
   "cell_type": "code",
   "execution_count": null,
   "id": "8c6f8af5-14af-40d9-8210-e43d78cfa573",
   "metadata": {},
   "outputs": [],
   "source": [
    "def sleeper2(x):\n",
    "    time.sleep(x)"
   ]
  },
  {
   "cell_type": "code",
   "execution_count": null,
   "id": "6c45928a-e175-4274-84cc-6fbd67b94933",
   "metadata": {},
   "outputs": [],
   "source": [
    "timer_wrapper(sleeper2(2))"
   ]
  },
  {
   "cell_type": "code",
   "execution_count": 5,
   "id": "7b045231-4f1c-47c0-bab1-4cf65c8306ae",
   "metadata": {},
   "outputs": [
    {
     "name": "stdout",
     "output_type": "stream",
     "text": [
      "Run 2 of sleeper took 2.0004 seconds.\n",
      "Total run time: 7.0006 seconds. Average run time: 3.5003 seconds. \n",
      "\n",
      "Time taken: 2.0008 seconds.\n"
     ]
    }
   ],
   "source": [
    "with print_time():\n",
    "    sleeper(2)"
   ]
  }
 ],
 "metadata": {
  "kernelspec": {
   "display_name": "Python 3 (ipykernel)",
   "language": "python",
   "name": "python3"
  },
  "language_info": {
   "codemirror_mode": {
    "name": "ipython",
    "version": 3
   },
   "file_extension": ".py",
   "mimetype": "text/x-python",
   "name": "python",
   "nbconvert_exporter": "python",
   "pygments_lexer": "ipython3",
   "version": "3.11.4"
  }
 },
 "nbformat": 4,
 "nbformat_minor": 5
}
